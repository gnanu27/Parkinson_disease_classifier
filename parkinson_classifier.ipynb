{
 "cells": [
  {
   "cell_type": "code",
   "execution_count": 1,
   "metadata": {},
   "outputs": [],
   "source": [
    "import pandas as pd"
   ]
  },
  {
   "cell_type": "code",
   "execution_count": 2,
   "metadata": {},
   "outputs": [],
   "source": [
    "data = pd.read_csv('./pd_speech_features.csv')"
   ]
  },
  {
   "cell_type": "code",
   "execution_count": 3,
   "metadata": {},
   "outputs": [
    {
     "data": {
      "text/plain": [
       "Index(['Unnamed: 0', 'Unnamed: 1', 'Baseline Features', 'Unnamed: 3',\n",
       "       'Unnamed: 4', 'Unnamed: 5', 'Unnamed: 6', 'Unnamed: 7', 'Unnamed: 8',\n",
       "       'Unnamed: 9',\n",
       "       ...\n",
       "       'Unnamed: 745', 'Unnamed: 746', 'Unnamed: 747', 'Unnamed: 748',\n",
       "       'Unnamed: 749', 'Unnamed: 750', 'Unnamed: 751', 'Unnamed: 752',\n",
       "       'Unnamed: 753', 'Unnamed: 754'],\n",
       "      dtype='object', length=755)"
      ]
     },
     "execution_count": 3,
     "metadata": {},
     "output_type": "execute_result"
    }
   ],
   "source": [
    "data.columns"
   ]
  },
  {
   "cell_type": "code",
   "execution_count": 4,
   "metadata": {},
   "outputs": [],
   "source": [
    "data.columns = data.iloc[0]\n",
    "data = data.iloc[1:].reindex()"
   ]
  },
  {
   "cell_type": "code",
   "execution_count": 5,
   "metadata": {},
   "outputs": [
    {
     "data": {
      "text/html": [
       "<div>\n",
       "<style scoped>\n",
       "    .dataframe tbody tr th:only-of-type {\n",
       "        vertical-align: middle;\n",
       "    }\n",
       "\n",
       "    .dataframe tbody tr th {\n",
       "        vertical-align: top;\n",
       "    }\n",
       "\n",
       "    .dataframe thead th {\n",
       "        text-align: right;\n",
       "    }\n",
       "</style>\n",
       "<table border=\"1\" class=\"dataframe\">\n",
       "  <thead>\n",
       "    <tr style=\"text-align: right;\">\n",
       "      <th></th>\n",
       "      <th>id</th>\n",
       "      <th>gender</th>\n",
       "      <th>PPE</th>\n",
       "      <th>DFA</th>\n",
       "      <th>RPDE</th>\n",
       "      <th>numPulses</th>\n",
       "      <th>numPeriodsPulses</th>\n",
       "      <th>meanPeriodPulses</th>\n",
       "      <th>stdDevPeriodPulses</th>\n",
       "      <th>locPctJitter</th>\n",
       "      <th>...</th>\n",
       "      <th>tqwt_kurtosisValue_dec_28</th>\n",
       "      <th>tqwt_kurtosisValue_dec_29</th>\n",
       "      <th>tqwt_kurtosisValue_dec_30</th>\n",
       "      <th>tqwt_kurtosisValue_dec_31</th>\n",
       "      <th>tqwt_kurtosisValue_dec_32</th>\n",
       "      <th>tqwt_kurtosisValue_dec_33</th>\n",
       "      <th>tqwt_kurtosisValue_dec_34</th>\n",
       "      <th>tqwt_kurtosisValue_dec_35</th>\n",
       "      <th>tqwt_kurtosisValue_dec_36</th>\n",
       "      <th>class</th>\n",
       "    </tr>\n",
       "  </thead>\n",
       "  <tbody>\n",
       "    <tr>\n",
       "      <th>1</th>\n",
       "      <td>0</td>\n",
       "      <td>1</td>\n",
       "      <td>0.85247</td>\n",
       "      <td>0.71826</td>\n",
       "      <td>0.57227</td>\n",
       "      <td>240</td>\n",
       "      <td>239</td>\n",
       "      <td>0.00806353</td>\n",
       "      <td>8.68E-05</td>\n",
       "      <td>0.00218</td>\n",
       "      <td>...</td>\n",
       "      <td>1.562</td>\n",
       "      <td>2.6445</td>\n",
       "      <td>3.8686</td>\n",
       "      <td>4.2105</td>\n",
       "      <td>5.1221</td>\n",
       "      <td>4.4625</td>\n",
       "      <td>2.6202</td>\n",
       "      <td>3.0004</td>\n",
       "      <td>18.9405</td>\n",
       "      <td>1</td>\n",
       "    </tr>\n",
       "    <tr>\n",
       "      <th>2</th>\n",
       "      <td>0</td>\n",
       "      <td>1</td>\n",
       "      <td>0.76686</td>\n",
       "      <td>0.69481</td>\n",
       "      <td>0.53966</td>\n",
       "      <td>234</td>\n",
       "      <td>233</td>\n",
       "      <td>0.008258256</td>\n",
       "      <td>7.31E-05</td>\n",
       "      <td>0.00195</td>\n",
       "      <td>...</td>\n",
       "      <td>1.5589</td>\n",
       "      <td>3.6107</td>\n",
       "      <td>23.5155</td>\n",
       "      <td>14.1962</td>\n",
       "      <td>11.0261</td>\n",
       "      <td>9.5082</td>\n",
       "      <td>6.5245</td>\n",
       "      <td>6.3431</td>\n",
       "      <td>45.178</td>\n",
       "      <td>1</td>\n",
       "    </tr>\n",
       "    <tr>\n",
       "      <th>3</th>\n",
       "      <td>0</td>\n",
       "      <td>1</td>\n",
       "      <td>0.85083</td>\n",
       "      <td>0.67604</td>\n",
       "      <td>0.58982</td>\n",
       "      <td>232</td>\n",
       "      <td>231</td>\n",
       "      <td>0.00833959</td>\n",
       "      <td>6.04E-05</td>\n",
       "      <td>0.00176</td>\n",
       "      <td>...</td>\n",
       "      <td>1.5643</td>\n",
       "      <td>2.3308</td>\n",
       "      <td>9.4959</td>\n",
       "      <td>10.7458</td>\n",
       "      <td>11.0177</td>\n",
       "      <td>4.8066</td>\n",
       "      <td>2.9199</td>\n",
       "      <td>3.1495</td>\n",
       "      <td>4.7666</td>\n",
       "      <td>1</td>\n",
       "    </tr>\n",
       "    <tr>\n",
       "      <th>4</th>\n",
       "      <td>1</td>\n",
       "      <td>0</td>\n",
       "      <td>0.41121</td>\n",
       "      <td>0.79672</td>\n",
       "      <td>0.59257</td>\n",
       "      <td>178</td>\n",
       "      <td>177</td>\n",
       "      <td>0.010857733</td>\n",
       "      <td>0.000182739</td>\n",
       "      <td>0.00419</td>\n",
       "      <td>...</td>\n",
       "      <td>3.7805</td>\n",
       "      <td>3.5664</td>\n",
       "      <td>5.2558</td>\n",
       "      <td>14.0403</td>\n",
       "      <td>4.2235</td>\n",
       "      <td>4.6857</td>\n",
       "      <td>4.846</td>\n",
       "      <td>6.265</td>\n",
       "      <td>4.0603</td>\n",
       "      <td>1</td>\n",
       "    </tr>\n",
       "    <tr>\n",
       "      <th>5</th>\n",
       "      <td>1</td>\n",
       "      <td>0</td>\n",
       "      <td>0.3279</td>\n",
       "      <td>0.79782</td>\n",
       "      <td>0.53028</td>\n",
       "      <td>236</td>\n",
       "      <td>235</td>\n",
       "      <td>0.008161574</td>\n",
       "      <td>0.002668863</td>\n",
       "      <td>0.00535</td>\n",
       "      <td>...</td>\n",
       "      <td>6.1727</td>\n",
       "      <td>5.8416</td>\n",
       "      <td>6.0805</td>\n",
       "      <td>5.7621</td>\n",
       "      <td>7.7817</td>\n",
       "      <td>11.6891</td>\n",
       "      <td>8.2103</td>\n",
       "      <td>5.0559</td>\n",
       "      <td>6.1164</td>\n",
       "      <td>1</td>\n",
       "    </tr>\n",
       "  </tbody>\n",
       "</table>\n",
       "<p>5 rows × 755 columns</p>\n",
       "</div>"
      ],
      "text/plain": [
       "0 id gender      PPE      DFA     RPDE numPulses numPeriodsPulses  \\\n",
       "1  0      1  0.85247  0.71826  0.57227       240              239   \n",
       "2  0      1  0.76686  0.69481  0.53966       234              233   \n",
       "3  0      1  0.85083  0.67604  0.58982       232              231   \n",
       "4  1      0  0.41121  0.79672  0.59257       178              177   \n",
       "5  1      0   0.3279  0.79782  0.53028       236              235   \n",
       "\n",
       "0 meanPeriodPulses stdDevPeriodPulses locPctJitter  ...  \\\n",
       "1       0.00806353           8.68E-05      0.00218  ...   \n",
       "2      0.008258256           7.31E-05      0.00195  ...   \n",
       "3       0.00833959           6.04E-05      0.00176  ...   \n",
       "4      0.010857733        0.000182739      0.00419  ...   \n",
       "5      0.008161574        0.002668863      0.00535  ...   \n",
       "\n",
       "0 tqwt_kurtosisValue_dec_28 tqwt_kurtosisValue_dec_29  \\\n",
       "1                     1.562                    2.6445   \n",
       "2                    1.5589                    3.6107   \n",
       "3                    1.5643                    2.3308   \n",
       "4                    3.7805                    3.5664   \n",
       "5                    6.1727                    5.8416   \n",
       "\n",
       "0 tqwt_kurtosisValue_dec_30 tqwt_kurtosisValue_dec_31  \\\n",
       "1                    3.8686                    4.2105   \n",
       "2                   23.5155                   14.1962   \n",
       "3                    9.4959                   10.7458   \n",
       "4                    5.2558                   14.0403   \n",
       "5                    6.0805                    5.7621   \n",
       "\n",
       "0 tqwt_kurtosisValue_dec_32 tqwt_kurtosisValue_dec_33  \\\n",
       "1                    5.1221                    4.4625   \n",
       "2                   11.0261                    9.5082   \n",
       "3                   11.0177                    4.8066   \n",
       "4                    4.2235                    4.6857   \n",
       "5                    7.7817                   11.6891   \n",
       "\n",
       "0 tqwt_kurtosisValue_dec_34 tqwt_kurtosisValue_dec_35  \\\n",
       "1                    2.6202                    3.0004   \n",
       "2                    6.5245                    6.3431   \n",
       "3                    2.9199                    3.1495   \n",
       "4                     4.846                     6.265   \n",
       "5                    8.2103                    5.0559   \n",
       "\n",
       "0 tqwt_kurtosisValue_dec_36 class  \n",
       "1                   18.9405     1  \n",
       "2                    45.178     1  \n",
       "3                    4.7666     1  \n",
       "4                    4.0603     1  \n",
       "5                    6.1164     1  \n",
       "\n",
       "[5 rows x 755 columns]"
      ]
     },
     "execution_count": 5,
     "metadata": {},
     "output_type": "execute_result"
    }
   ],
   "source": [
    "data.head()"
   ]
  },
  {
   "cell_type": "code",
   "execution_count": 6,
   "metadata": {},
   "outputs": [],
   "source": [
    "# headers = data.iloc[0]\n",
    "# data = pd.DataFrame(data.values[1:], columns=headers)"
   ]
  },
  {
   "cell_type": "code",
   "execution_count": 7,
   "metadata": {},
   "outputs": [],
   "source": [
    "X = data.iloc[:, 0:754].values\n",
    "Y = data.iloc[:,754].values"
   ]
  },
  {
   "cell_type": "markdown",
   "metadata": {},
   "source": [
    "#### Data Standardization"
   ]
  },
  {
   "cell_type": "code",
   "execution_count": 8,
   "metadata": {},
   "outputs": [],
   "source": [
    "from sklearn.preprocessing import StandardScaler\n",
    "X = StandardScaler().fit_transform(X)\n"
   ]
  },
  {
   "cell_type": "markdown",
   "metadata": {},
   "source": [
    "## PCA\n",
    "\n",
    "The idea of PCA is simple — reduce the number of variables of a data set, while preserving as much information as possible."
   ]
  },
  {
   "cell_type": "markdown",
   "metadata": {},
   "source": [
    "#### Step-1 Standarization and compute covariance matrix"
   ]
  },
  {
   "cell_type": "code",
   "execution_count": 9,
   "metadata": {},
   "outputs": [
    {
     "data": {
      "text/plain": [
       "array([[ 1.0013245 , -0.13378215,  0.02670192, ..., -0.05811108,\n",
       "        -0.05788379, -0.05584903],\n",
       "       [-0.13378215,  1.0013245 ,  0.01018855, ...,  0.12910653,\n",
       "         0.10787687,  0.10496656],\n",
       "       [ 0.02670192,  0.01018855,  1.0013245 , ...,  0.04623629,\n",
       "         0.03743406,  0.03964023],\n",
       "       ...,\n",
       "       [-0.05811108,  0.12910653,  0.04623629, ...,  1.0013245 ,\n",
       "         0.94926382,  0.7861811 ],\n",
       "       [-0.05788379,  0.10787687,  0.03743406, ...,  0.94926382,\n",
       "         1.0013245 ,  0.86784425],\n",
       "       [-0.05584903,  0.10496656,  0.03964023, ...,  0.7861811 ,\n",
       "         0.86784425,  1.0013245 ]])"
      ]
     },
     "execution_count": 9,
     "metadata": {},
     "output_type": "execute_result"
    }
   ],
   "source": [
    "import numpy as np\n",
    "\n",
    "X_mean = np.mean(X, axis=0)\n",
    "# cv_mat = (X - X_mean).T.dot((X - X_mean)) / (X.shape[0]-1)\n",
    "# cv_mat\n",
    "cv_mat = np.cov(X.T)\n",
    "cv_mat"
   ]
  },
  {
   "cell_type": "markdown",
   "metadata": {},
   "source": [
    "#### Step - 2 :  COMPUTE THE EIGENVECTORS AND EIGENVALUES OF THE COVARIANCE MATRIX TO IDENTIFY THE PRINCIPAL COMPONENTS"
   ]
  },
  {
   "cell_type": "code",
   "execution_count": 10,
   "metadata": {},
   "outputs": [
    {
     "name": "stdout",
     "output_type": "stream",
     "text": [
      "\n",
      "eigen values \n",
      "\n",
      " [97.73833579 70.80079574 62.22641008 32.3546798  26.90448685]\n",
      "\n",
      "eigen vectors \n",
      "\n",
      " [[-7.34343947e-03 -1.16719053e-03  6.51538260e-03 ...  4.36002758e-07\n",
      "  -3.40407537e-08 -9.87458857e-10]\n",
      " [ 4.50265736e-02 -4.70096509e-02 -6.29257413e-03 ... -6.26834617e-06\n",
      "  -5.84242576e-07 -1.15170969e-06]\n",
      " [-1.73695965e-02 -1.04538133e-02 -5.76635105e-02 ... -6.66741942e-06\n",
      "  -2.62117166e-06 -4.99220639e-07]\n",
      " [ 4.92192614e-02 -2.46931648e-03  1.58072835e-03 ... -2.12152280e-05\n",
      "  -2.86188155e-06 -3.26850623e-07]\n",
      " [ 5.49956743e-02 -4.58086092e-03  4.95065904e-02 ... -7.54642844e-06\n",
      "  -2.44627405e-06 -6.98435177e-07]]\n",
      "\n"
     ]
    }
   ],
   "source": [
    "eigenvalue, eigenvectors = np.linalg.eig(cv_mat)\n",
    "print()\n",
    "print('eigen values \\n\\n',eigenvalue[:5], end='\\n\\n')\n",
    "print('eigen vectors \\n\\n',eigenvectors[:5], end='\\n\\n')"
   ]
  },
  {
   "cell_type": "markdown",
   "metadata": {},
   "source": [
    "#### Step-3 Primary Component Selection"
   ]
  },
  {
   "cell_type": "code",
   "execution_count": 11,
   "metadata": {},
   "outputs": [
    {
     "data": {
      "text/plain": [
       "[12.945497649128232,\n",
       " 9.377605291277419,\n",
       " 8.24192307911997,\n",
       " 4.285395570467566,\n",
       " 3.5635144432509787,\n",
       " 2.9924211171447324,\n",
       " 2.508247991385918,\n",
       " 2.211802240978642,\n",
       " 2.032794523507782,\n",
       " 1.8219685053528063,\n",
       " 1.764887618922754,\n",
       " 1.4932749143002992,\n",
       " 1.3051535894300543,\n",
       " 1.2712427480397641,\n",
       " 1.267500146799637,\n",
       " 1.1662274492028053,\n",
       " 1.0677508285842285,\n",
       " 1.0569704086230722,\n",
       " 0.9484213759821511,\n",
       " 0.934398601818384,\n",
       " 0.866449091717293,\n",
       " 0.8054486120155133,\n",
       " 0.7619017160440655,\n",
       " 0.7386731197986574,\n",
       " 0.6675490829100305,\n",
       " 0.6269640033489298,\n",
       " 0.6230528890774703,\n",
       " 0.6081042667178633,\n",
       " 0.5863152359934458,\n",
       " 0.5587794280264617,\n",
       " 0.5263561269283522,\n",
       " 0.521934023852453,\n",
       " 0.4984897127981578,\n",
       " 0.48155301409573736,\n",
       " 0.4692146311775055,\n",
       " 0.45737160607826094,\n",
       " 0.44111597501248506,\n",
       " 0.41540451473797396,\n",
       " 0.40295019727398534,\n",
       " 0.3806075514009977,\n",
       " 0.3772762864733809,\n",
       " 0.36879195041102325,\n",
       " 0.3603733348132821,\n",
       " 0.3503888439964802,\n",
       " 0.34600638834247205,\n",
       " 0.34150382897913756,\n",
       " 0.3356753388836704,\n",
       " 0.31494259655231827,\n",
       " 0.3126777263417149,\n",
       " 0.3058253523318627]"
      ]
     },
     "execution_count": 11,
     "metadata": {},
     "output_type": "execute_result"
    }
   ],
   "source": [
    "total_eigenvalues = sum(eigenvalue)\n",
    "variances = [(i / total_eigenvalues) * 100 for i in sorted(eigenvalue, reverse=True)]\n",
    "variances[:50]"
   ]
  },
  {
   "cell_type": "code",
   "execution_count": 12,
   "metadata": {},
   "outputs": [
    {
     "data": {
      "image/png": "[encoded data removed]",
      "text/plain": [
       "<Figure size 1080x720 with 1 Axes>"
      ]
     },
     "metadata": {},
     "output_type": "display_data"
    }
   ],
   "source": [
    "import matplotlib.pyplot as plt\n",
    "with plt.style.context('seaborn-whitegrid'):\n",
    "    plt.figure(figsize=(15, 10))\n",
    "    plt.bar(range(len(eigenvalue)), variances, alpha=0.8, align='center', label='Individual Component Variance')\n",
    "    plt.ylabel('variance Ratio')\n",
    "    plt.xlabel('principle Component')\n",
    "    plt.legend('best')\n",
    "    plt.tight_layout()"
   ]
  },
  {
   "cell_type": "code",
   "execution_count": 13,
   "metadata": {},
   "outputs": [],
   "source": [
    "from sklearn.model_selection import train_test_split\n",
    "x_train, x_test, y_train, y_test = train_test_split(X, Y, test_size = 0.1, random_state = 0)"
   ]
  },
  {
   "cell_type": "code",
   "execution_count": 14,
   "metadata": {},
   "outputs": [],
   "source": [
    "sc = StandardScaler()\n",
    "x_train = sc.fit_transform(x_train)\n",
    "x_test = sc.transform(x_test)\n"
   ]
  },
  {
   "cell_type": "code",
   "execution_count": 15,
   "metadata": {},
   "outputs": [
    {
     "name": "stdout",
     "output_type": "stream",
     "text": [
      "train shape :  (680, 754)\n",
      "\n",
      "test shape :  (76, 754)\n"
     ]
    }
   ],
   "source": [
    "print('train shape : ', x_train.shape, end = '\\n\\n')\n",
    "print('test shape : ', x_test.shape)"
   ]
  },
  {
   "cell_type": "code",
   "execution_count": 16,
   "metadata": {},
   "outputs": [
    {
     "name": "stdout",
     "output_type": "stream",
     "text": [
      "Train pca shape :  (680, 10)\n",
      "Test pca shape :  (76, 10)\n"
     ]
    }
   ],
   "source": [
    "from sklearn.decomposition import PCA\n",
    "pca = PCA(n_components=10)\n",
    "x_train_pca = pca.fit_transform(x_train)\n",
    "x_test_pca = pca.transform(x_test)\n",
    "\n",
    "print('Train pca shape : ', x_train_pca.shape)\n",
    "print('Test pca shape : ', x_test_pca.shape)"
   ]
  },
  {
   "cell_type": "markdown",
   "metadata": {},
   "source": [
    "### support Vector Machine "
   ]
  },
  {
   "cell_type": "code",
   "execution_count": 17,
   "metadata": {},
   "outputs": [],
   "source": [
    "from sklearn.svm import SVC\n",
    "from sklearn.metrics import accuracy_score\n",
    "classifier = SVC()\n",
    "classifier.fit(x_train, y_train)\n",
    "y_pred = classifier.predict(x_test)\n",
    "\n",
    "accuracy = accuracy_score(y_test, y_pred)\n"
   ]
  },
  {
   "cell_type": "code",
   "execution_count": 18,
   "metadata": {},
   "outputs": [],
   "source": [
    "classifier2 = SVC()\n",
    "classifier2.fit(x_train_pca, y_train)\n",
    "y_pred_pca = classifier2.predict(x_test_pca)\n",
    "accuracy_pca = accuracy_score(y_pred_pca, y_test)"
   ]
  },
  {
   "cell_type": "code",
   "execution_count": 19,
   "metadata": {},
   "outputs": [
    {
     "name": "stdout",
     "output_type": "stream",
     "text": [
      "Accuracy for before PCA with SVM:  0.8421052631578947\n",
      "Accuracy for After PCA with SVM :  0.8552631578947368\n"
     ]
    }
   ],
   "source": [
    "print('Accuracy for before PCA with SVM: ', accuracy, end='\\n')\n",
    "print('Accuracy for After PCA with SVM : ', accuracy_pca)"
   ]
  },
  {
   "cell_type": "markdown",
   "metadata": {},
   "source": [
    "It is observed that reducing the size with PCA, that is, reducing the number of variables, has a positive effect on the success score of some machine learning classification models. It is possible to produce more effective and faster solutions by taking a small amount of data loss. Reducing dimensions with PCA will provide us with great convenience, especially in studies related to Big Data."
   ]
  }
 ],
 "metadata": {
  "kernelspec": {
   "display_name": "Python 3",
   "language": "python",
   "name": "python3"
  },
  "language_info": {
   "codemirror_mode": {
    "name": "ipython",
    "version": 3
   },
   "file_extension": ".py",
   "mimetype": "text/x-python",
   "name": "python",
   "nbconvert_exporter": "python",
   "pygments_lexer": "ipython3",
   "version": "3.8.5"
  }
 },
 "nbformat": 4,
 "nbformat_minor": 4
}
